{
 "cells": [
  {
   "cell_type": "markdown",
   "metadata": {},
   "source": [
    "## 1. Introduction \n",
    "\n",
    "If we have a biased coin with a probability of landing heads (0) 75% of the time and tails (1) 25% of the time, which of these trials is more likely? \n",
    "\n",
    "- 1. 0000000000000000\n",
    "- 2. 0001010001001100\n",
    "- 3. 1111111111111111\n",
    "\n",
    "Based upon the fact that the heads is more likely and tails is a little less likely, we naturally would assume based off intuition that the second choice is most likely, containing a mixture of ones and zeros, with some zeros slightly greater than the ones.  \n",
    "\n",
    "But shockingly, this is WRONG!"
   ]
  },
  {
   "cell_type": "markdown",
   "metadata": {},
   "source": [
    "## 2. Theory "
   ]
  },
  {
   "cell_type": "markdown",
   "metadata": {},
   "source": [
    "The probabilities for each of the sequences are the following: \n",
    "\n",
    "- 1. $(\\frac{3}{4})^{16}$\n",
    "\n",
    "- 2. $(\\frac{3}{4})^{12}(\\frac{1}{4})^{4}$\n",
    "\n",
    "- 3. $(\\frac{1}{4})^{16}$\n",
    "\n",
    "Evaluating these, we have: "
   ]
  },
  {
   "cell_type": "code",
   "execution_count": 3,
   "metadata": {},
   "outputs": [
    {
     "name": "stdout",
     "output_type": "stream",
     "text": [
      "Probability one: 0.010022595757618546\n",
      "Probability two: 0.00012373575009405613\n",
      "Probability three: 2.3283064365386963e-10\n"
     ]
    }
   ],
   "source": [
    "print(f'Probability one: {(3/4) ** 16}')\n",
    "print(f'Probability two: {((3/4) ** 12) * ((1/4) ** 4)}')\n",
    "print(f'Probability three: {(1/4) ** 16}')"
   ]
  },
  {
   "cell_type": "markdown",
   "metadata": {},
   "source": [
    "So we see that the first option is overwhelmingly more likely to happen than the second! How much exactly? "
   ]
  },
  {
   "cell_type": "code",
   "execution_count": 4,
   "metadata": {},
   "outputs": [
    {
     "name": "stdout",
     "output_type": "stream",
     "text": [
      "How much more likely is P1 than P2? 81.0\n"
     ]
    }
   ],
   "source": [
    "print(f'How much more likely is P1 than P2? {((3/4) ** 16) / (((3/4) ** 12) * ((1/4) ** 4))}')"
   ]
  },
  {
   "cell_type": "markdown",
   "metadata": {},
   "source": [
    "So the first outcome is 81x more likely to occur than the second outcome.  "
   ]
  },
  {
   "cell_type": "markdown",
   "metadata": {},
   "source": [
    "## 3. Intuitive Explanation "
   ]
  },
  {
   "cell_type": "markdown",
   "metadata": {},
   "source": [
    "We make an intuitive mistake by considering all possibilities of 12 heads and 4 tails in **any order** as opposed to in a specific sequence.  The probability of getting **any** sequence with 12 heads and 4 tails in any order is much larger than what we calculated.  We essentially just multiply it by its binomial coefficient ${16\\choose 4}$, which equals 1820.  So if we were allowed to pick the sequence in **any** order, the second probability would be 1820/81 ~22.5x more likely than the first option.  "
   ]
  },
  {
   "cell_type": "markdown",
   "metadata": {},
   "source": [
    "## 4. Typical Sets "
   ]
  },
  {
   "cell_type": "markdown",
   "metadata": {},
   "source": [
    "The set of all coin tosses with 12 heads and 4 tails is an example of a typical set.  Even though the number of elements in a typical set is generally much smaller than the total number of possible sequences, the probability of a generated sequence being in the typical set is high.  "
   ]
  },
  {
   "cell_type": "markdown",
   "metadata": {},
   "source": [
    "## 5. Probability Plot "
   ]
  },
  {
   "cell_type": "markdown",
   "metadata": {},
   "source": [
    "The surprise in this problem likely results from the subtle difference in the questions we are asking.  When we are allowed to consider **any** arrangement of heads and tails in a sequence, our intuition often leads to jumping to a correct conclusion.  In this problem, however, we care about the specific sequence of the numbers, which leads to the surprise that a series of all heads is more likely than the 12 heads and 4 tails scenario.  Let's plot exactly what this would look like for each combination of heads and tails in 16 tosses: "
   ]
  },
  {
   "cell_type": "code",
   "execution_count": 5,
   "metadata": {},
   "outputs": [],
   "source": [
    "import matplotlib.pyplot as plt\n",
    "import numpy as np\n",
    "from scipy.special import comb"
   ]
  },
  {
   "cell_type": "code",
   "execution_count": 6,
   "metadata": {},
   "outputs": [
    {
     "data": {
      "text/plain": [
       "<matplotlib.legend.Legend at 0x1215c8a50>"
      ]
     },
     "execution_count": 6,
     "metadata": {},
     "output_type": "execute_result"
    },
    {
     "data": {
      "image/png": "[encoded data removed]",
      "text/plain": [
       "<Figure size 648x216 with 1 Axes>"
      ]
     },
     "metadata": {
      "needs_background": "light"
     },
     "output_type": "display_data"
    }
   ],
   "source": [
    "h = np.arange(16 + 1)\n",
    "p_sequence = (3/4) ** h * (1/4) ** (16 - h)\n",
    "num_sequences = comb(16, h)\n",
    "heads_count = p_sequence * num_sequences\n",
    "\n",
    "plt.figure(figsize=(9, 3))\n",
    "plt.plot(h, p_sequence, 'C0-s', label = 'Probability of a single sequence with this number of heads')\n",
    "plt.plot(h, heads_count, 'C1-o', label='Probability of observing this number of heads')\n",
    "plt.yscale('log')\n",
    "plt.xlabel('Number of Heads')\n",
    "plt.ylabel('Probability')\n",
    "plt.legend()"
   ]
  },
  {
   "cell_type": "code",
   "execution_count": null,
   "metadata": {},
   "outputs": [],
   "source": []
  }
 ],
 "metadata": {
  "kernelspec": {
   "display_name": "Python 3",
   "language": "python",
   "name": "python3"
  },
  "language_info": {
   "codemirror_mode": {
    "name": "ipython",
    "version": 3
   },
   "file_extension": ".py",
   "mimetype": "text/x-python",
   "name": "python",
   "nbconvert_exporter": "python",
   "pygments_lexer": "ipython3",
   "version": "3.7.4"
  }
 },
 "nbformat": 4,
 "nbformat_minor": 2
}
